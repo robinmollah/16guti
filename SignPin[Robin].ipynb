{
  "nbformat": 4,
  "nbformat_minor": 0,
  "metadata": {
    "colab": {
      "name": "SignPin[Robin].ipynb",
      "provenance": [],
      "collapsed_sections": [],
      "include_colab_link": true
    },
    "kernelspec": {
      "name": "python3",
      "display_name": "Python 3"
    },
    "language_info": {
      "name": "python"
    }
  },
  "cells": [
    {
      "cell_type": "markdown",
      "metadata": {
        "id": "view-in-github",
        "colab_type": "text"
      },
      "source": [
        "<a href=\"https://colab.research.google.com/github/robinmollah/16guti/blob/master/SignPin%5BRobin%5D.ipynb\" target=\"_parent\"><img src=\"https://colab.research.google.com/assets/colab-badge.svg\" alt=\"Open In Colab\"/></a>"
      ]
    },
    {
      "cell_type": "code",
      "source": [
        "!pip install ipycanvas"
      ],
      "metadata": {
        "id": "_wuMaMpjrbWH",
        "colab": {
          "base_uri": "https://localhost:8080/"
        },
        "outputId": "b87460bd-5840-4576-a9d8-f3e4202e8aff"
      },
      "execution_count": 2,
      "outputs": [
        {
          "output_type": "stream",
          "name": "stdout",
          "text": [
            "Collecting ipycanvas\n",
            "  Downloading ipycanvas-0.10.2-py2.py3-none-any.whl (253 kB)\n",
            "\u001b[?25l\r\u001b[K     |█▎                              | 10 kB 20.9 MB/s eta 0:00:01\r\u001b[K     |██▋                             | 20 kB 11.0 MB/s eta 0:00:01\r\u001b[K     |███▉                            | 30 kB 8.8 MB/s eta 0:00:01\r\u001b[K     |█████▏                          | 40 kB 8.1 MB/s eta 0:00:01\r\u001b[K     |██████▌                         | 51 kB 5.3 MB/s eta 0:00:01\r\u001b[K     |███████▊                        | 61 kB 5.5 MB/s eta 0:00:01\r\u001b[K     |█████████                       | 71 kB 5.3 MB/s eta 0:00:01\r\u001b[K     |██████████▎                     | 81 kB 6.0 MB/s eta 0:00:01\r\u001b[K     |███████████▋                    | 92 kB 6.0 MB/s eta 0:00:01\r\u001b[K     |█████████████                   | 102 kB 5.1 MB/s eta 0:00:01\r\u001b[K     |██████████████▏                 | 112 kB 5.1 MB/s eta 0:00:01\r\u001b[K     |███████████████▌                | 122 kB 5.1 MB/s eta 0:00:01\r\u001b[K     |████████████████▊               | 133 kB 5.1 MB/s eta 0:00:01\r\u001b[K     |██████████████████              | 143 kB 5.1 MB/s eta 0:00:01\r\u001b[K     |███████████████████▍            | 153 kB 5.1 MB/s eta 0:00:01\r\u001b[K     |████████████████████▋           | 163 kB 5.1 MB/s eta 0:00:01\r\u001b[K     |██████████████████████          | 174 kB 5.1 MB/s eta 0:00:01\r\u001b[K     |███████████████████████▎        | 184 kB 5.1 MB/s eta 0:00:01\r\u001b[K     |████████████████████████▌       | 194 kB 5.1 MB/s eta 0:00:01\r\u001b[K     |█████████████████████████▉      | 204 kB 5.1 MB/s eta 0:00:01\r\u001b[K     |███████████████████████████     | 215 kB 5.1 MB/s eta 0:00:01\r\u001b[K     |████████████████████████████▍   | 225 kB 5.1 MB/s eta 0:00:01\r\u001b[K     |█████████████████████████████▊  | 235 kB 5.1 MB/s eta 0:00:01\r\u001b[K     |███████████████████████████████ | 245 kB 5.1 MB/s eta 0:00:01\r\u001b[K     |████████████████████████████████| 253 kB 5.1 MB/s \n",
            "\u001b[?25hRequirement already satisfied: pillow>=6.0 in /usr/local/lib/python3.7/dist-packages (from ipycanvas) (7.1.2)\n",
            "Requirement already satisfied: numpy in /usr/local/lib/python3.7/dist-packages (from ipycanvas) (1.19.5)\n",
            "Requirement already satisfied: ipywidgets>=7.6.0 in /usr/local/lib/python3.7/dist-packages (from ipycanvas) (7.6.5)\n",
            "Requirement already satisfied: ipykernel>=4.5.1 in /usr/local/lib/python3.7/dist-packages (from ipywidgets>=7.6.0->ipycanvas) (4.10.1)\n",
            "Requirement already satisfied: ipython>=4.0.0 in /usr/local/lib/python3.7/dist-packages (from ipywidgets>=7.6.0->ipycanvas) (5.5.0)\n",
            "Requirement already satisfied: widgetsnbextension~=3.5.0 in /usr/local/lib/python3.7/dist-packages (from ipywidgets>=7.6.0->ipycanvas) (3.5.2)\n",
            "Requirement already satisfied: nbformat>=4.2.0 in /usr/local/lib/python3.7/dist-packages (from ipywidgets>=7.6.0->ipycanvas) (5.1.3)\n",
            "Requirement already satisfied: jupyterlab-widgets>=1.0.0 in /usr/local/lib/python3.7/dist-packages (from ipywidgets>=7.6.0->ipycanvas) (1.0.2)\n",
            "Requirement already satisfied: ipython-genutils~=0.2.0 in /usr/local/lib/python3.7/dist-packages (from ipywidgets>=7.6.0->ipycanvas) (0.2.0)\n",
            "Requirement already satisfied: traitlets>=4.3.1 in /usr/local/lib/python3.7/dist-packages (from ipywidgets>=7.6.0->ipycanvas) (5.1.1)\n",
            "Requirement already satisfied: tornado>=4.0 in /usr/local/lib/python3.7/dist-packages (from ipykernel>=4.5.1->ipywidgets>=7.6.0->ipycanvas) (5.1.1)\n",
            "Requirement already satisfied: jupyter-client in /usr/local/lib/python3.7/dist-packages (from ipykernel>=4.5.1->ipywidgets>=7.6.0->ipycanvas) (5.3.5)\n",
            "Requirement already satisfied: setuptools>=18.5 in /usr/local/lib/python3.7/dist-packages (from ipython>=4.0.0->ipywidgets>=7.6.0->ipycanvas) (57.4.0)\n",
            "Requirement already satisfied: prompt-toolkit<2.0.0,>=1.0.4 in /usr/local/lib/python3.7/dist-packages (from ipython>=4.0.0->ipywidgets>=7.6.0->ipycanvas) (1.0.18)\n",
            "Requirement already satisfied: pickleshare in /usr/local/lib/python3.7/dist-packages (from ipython>=4.0.0->ipywidgets>=7.6.0->ipycanvas) (0.7.5)\n",
            "Requirement already satisfied: pexpect in /usr/local/lib/python3.7/dist-packages (from ipython>=4.0.0->ipywidgets>=7.6.0->ipycanvas) (4.8.0)\n",
            "Requirement already satisfied: pygments in /usr/local/lib/python3.7/dist-packages (from ipython>=4.0.0->ipywidgets>=7.6.0->ipycanvas) (2.6.1)\n",
            "Requirement already satisfied: simplegeneric>0.8 in /usr/local/lib/python3.7/dist-packages (from ipython>=4.0.0->ipywidgets>=7.6.0->ipycanvas) (0.8.1)\n",
            "Requirement already satisfied: decorator in /usr/local/lib/python3.7/dist-packages (from ipython>=4.0.0->ipywidgets>=7.6.0->ipycanvas) (4.4.2)\n",
            "Requirement already satisfied: jupyter-core in /usr/local/lib/python3.7/dist-packages (from nbformat>=4.2.0->ipywidgets>=7.6.0->ipycanvas) (4.9.1)\n",
            "Requirement already satisfied: jsonschema!=2.5.0,>=2.4 in /usr/local/lib/python3.7/dist-packages (from nbformat>=4.2.0->ipywidgets>=7.6.0->ipycanvas) (4.3.3)\n",
            "Requirement already satisfied: pyrsistent!=0.17.0,!=0.17.1,!=0.17.2,>=0.14.0 in /usr/local/lib/python3.7/dist-packages (from jsonschema!=2.5.0,>=2.4->nbformat>=4.2.0->ipywidgets>=7.6.0->ipycanvas) (0.18.0)\n",
            "Requirement already satisfied: importlib-metadata in /usr/local/lib/python3.7/dist-packages (from jsonschema!=2.5.0,>=2.4->nbformat>=4.2.0->ipywidgets>=7.6.0->ipycanvas) (4.10.0)\n",
            "Requirement already satisfied: typing-extensions in /usr/local/lib/python3.7/dist-packages (from jsonschema!=2.5.0,>=2.4->nbformat>=4.2.0->ipywidgets>=7.6.0->ipycanvas) (3.10.0.2)\n",
            "Requirement already satisfied: attrs>=17.4.0 in /usr/local/lib/python3.7/dist-packages (from jsonschema!=2.5.0,>=2.4->nbformat>=4.2.0->ipywidgets>=7.6.0->ipycanvas) (21.4.0)\n",
            "Requirement already satisfied: importlib-resources>=1.4.0 in /usr/local/lib/python3.7/dist-packages (from jsonschema!=2.5.0,>=2.4->nbformat>=4.2.0->ipywidgets>=7.6.0->ipycanvas) (5.4.0)\n",
            "Requirement already satisfied: zipp>=3.1.0 in /usr/local/lib/python3.7/dist-packages (from importlib-resources>=1.4.0->jsonschema!=2.5.0,>=2.4->nbformat>=4.2.0->ipywidgets>=7.6.0->ipycanvas) (3.7.0)\n",
            "Requirement already satisfied: wcwidth in /usr/local/lib/python3.7/dist-packages (from prompt-toolkit<2.0.0,>=1.0.4->ipython>=4.0.0->ipywidgets>=7.6.0->ipycanvas) (0.2.5)\n",
            "Requirement already satisfied: six>=1.9.0 in /usr/local/lib/python3.7/dist-packages (from prompt-toolkit<2.0.0,>=1.0.4->ipython>=4.0.0->ipywidgets>=7.6.0->ipycanvas) (1.15.0)\n",
            "Requirement already satisfied: notebook>=4.4.1 in /usr/local/lib/python3.7/dist-packages (from widgetsnbextension~=3.5.0->ipywidgets>=7.6.0->ipycanvas) (5.3.1)\n",
            "Requirement already satisfied: jinja2 in /usr/local/lib/python3.7/dist-packages (from notebook>=4.4.1->widgetsnbextension~=3.5.0->ipywidgets>=7.6.0->ipycanvas) (2.11.3)\n",
            "Requirement already satisfied: Send2Trash in /usr/local/lib/python3.7/dist-packages (from notebook>=4.4.1->widgetsnbextension~=3.5.0->ipywidgets>=7.6.0->ipycanvas) (1.8.0)\n",
            "Requirement already satisfied: nbconvert in /usr/local/lib/python3.7/dist-packages (from notebook>=4.4.1->widgetsnbextension~=3.5.0->ipywidgets>=7.6.0->ipycanvas) (5.6.1)\n",
            "Requirement already satisfied: terminado>=0.8.1 in /usr/local/lib/python3.7/dist-packages (from notebook>=4.4.1->widgetsnbextension~=3.5.0->ipywidgets>=7.6.0->ipycanvas) (0.12.1)\n",
            "Requirement already satisfied: python-dateutil>=2.1 in /usr/local/lib/python3.7/dist-packages (from jupyter-client->ipykernel>=4.5.1->ipywidgets>=7.6.0->ipycanvas) (2.8.2)\n",
            "Requirement already satisfied: pyzmq>=13 in /usr/local/lib/python3.7/dist-packages (from jupyter-client->ipykernel>=4.5.1->ipywidgets>=7.6.0->ipycanvas) (22.3.0)\n",
            "Requirement already satisfied: ptyprocess in /usr/local/lib/python3.7/dist-packages (from terminado>=0.8.1->notebook>=4.4.1->widgetsnbextension~=3.5.0->ipywidgets>=7.6.0->ipycanvas) (0.7.0)\n",
            "Requirement already satisfied: MarkupSafe>=0.23 in /usr/local/lib/python3.7/dist-packages (from jinja2->notebook>=4.4.1->widgetsnbextension~=3.5.0->ipywidgets>=7.6.0->ipycanvas) (2.0.1)\n",
            "Requirement already satisfied: pandocfilters>=1.4.1 in /usr/local/lib/python3.7/dist-packages (from nbconvert->notebook>=4.4.1->widgetsnbextension~=3.5.0->ipywidgets>=7.6.0->ipycanvas) (1.5.0)\n",
            "Requirement already satisfied: mistune<2,>=0.8.1 in /usr/local/lib/python3.7/dist-packages (from nbconvert->notebook>=4.4.1->widgetsnbextension~=3.5.0->ipywidgets>=7.6.0->ipycanvas) (0.8.4)\n",
            "Requirement already satisfied: entrypoints>=0.2.2 in /usr/local/lib/python3.7/dist-packages (from nbconvert->notebook>=4.4.1->widgetsnbextension~=3.5.0->ipywidgets>=7.6.0->ipycanvas) (0.3)\n",
            "Requirement already satisfied: testpath in /usr/local/lib/python3.7/dist-packages (from nbconvert->notebook>=4.4.1->widgetsnbextension~=3.5.0->ipywidgets>=7.6.0->ipycanvas) (0.5.0)\n",
            "Requirement already satisfied: bleach in /usr/local/lib/python3.7/dist-packages (from nbconvert->notebook>=4.4.1->widgetsnbextension~=3.5.0->ipywidgets>=7.6.0->ipycanvas) (4.1.0)\n",
            "Requirement already satisfied: defusedxml in /usr/local/lib/python3.7/dist-packages (from nbconvert->notebook>=4.4.1->widgetsnbextension~=3.5.0->ipywidgets>=7.6.0->ipycanvas) (0.7.1)\n",
            "Requirement already satisfied: webencodings in /usr/local/lib/python3.7/dist-packages (from bleach->nbconvert->notebook>=4.4.1->widgetsnbextension~=3.5.0->ipywidgets>=7.6.0->ipycanvas) (0.5.1)\n",
            "Requirement already satisfied: packaging in /usr/local/lib/python3.7/dist-packages (from bleach->nbconvert->notebook>=4.4.1->widgetsnbextension~=3.5.0->ipywidgets>=7.6.0->ipycanvas) (21.3)\n",
            "Requirement already satisfied: pyparsing!=3.0.5,>=2.0.2 in /usr/local/lib/python3.7/dist-packages (from packaging->bleach->nbconvert->notebook>=4.4.1->widgetsnbextension~=3.5.0->ipywidgets>=7.6.0->ipycanvas) (3.0.6)\n",
            "Installing collected packages: ipycanvas\n",
            "Successfully installed ipycanvas-0.10.2\n"
          ]
        }
      ]
    },
    {
      "cell_type": "code",
      "source": [
        "!pip install ipywidgets"
      ],
      "metadata": {
        "id": "xyxHHxzPsScO",
        "colab": {
          "base_uri": "https://localhost:8080/"
        },
        "outputId": "9c3bcef7-f983-4105-d020-85d79f1c25a7"
      },
      "execution_count": 3,
      "outputs": [
        {
          "output_type": "stream",
          "name": "stdout",
          "text": [
            "Requirement already satisfied: ipywidgets in /usr/local/lib/python3.7/dist-packages (7.6.5)\n",
            "Requirement already satisfied: jupyterlab-widgets>=1.0.0 in /usr/local/lib/python3.7/dist-packages (from ipywidgets) (1.0.2)\n",
            "Requirement already satisfied: widgetsnbextension~=3.5.0 in /usr/local/lib/python3.7/dist-packages (from ipywidgets) (3.5.2)\n",
            "Requirement already satisfied: ipython-genutils~=0.2.0 in /usr/local/lib/python3.7/dist-packages (from ipywidgets) (0.2.0)\n",
            "Requirement already satisfied: nbformat>=4.2.0 in /usr/local/lib/python3.7/dist-packages (from ipywidgets) (5.1.3)\n",
            "Requirement already satisfied: ipykernel>=4.5.1 in /usr/local/lib/python3.7/dist-packages (from ipywidgets) (4.10.1)\n",
            "Requirement already satisfied: ipython>=4.0.0 in /usr/local/lib/python3.7/dist-packages (from ipywidgets) (5.5.0)\n",
            "Requirement already satisfied: traitlets>=4.3.1 in /usr/local/lib/python3.7/dist-packages (from ipywidgets) (5.1.1)\n",
            "Requirement already satisfied: tornado>=4.0 in /usr/local/lib/python3.7/dist-packages (from ipykernel>=4.5.1->ipywidgets) (5.1.1)\n",
            "Requirement already satisfied: jupyter-client in /usr/local/lib/python3.7/dist-packages (from ipykernel>=4.5.1->ipywidgets) (5.3.5)\n",
            "Requirement already satisfied: setuptools>=18.5 in /usr/local/lib/python3.7/dist-packages (from ipython>=4.0.0->ipywidgets) (57.4.0)\n",
            "Requirement already satisfied: pexpect in /usr/local/lib/python3.7/dist-packages (from ipython>=4.0.0->ipywidgets) (4.8.0)\n",
            "Requirement already satisfied: prompt-toolkit<2.0.0,>=1.0.4 in /usr/local/lib/python3.7/dist-packages (from ipython>=4.0.0->ipywidgets) (1.0.18)\n",
            "Requirement already satisfied: pickleshare in /usr/local/lib/python3.7/dist-packages (from ipython>=4.0.0->ipywidgets) (0.7.5)\n",
            "Requirement already satisfied: pygments in /usr/local/lib/python3.7/dist-packages (from ipython>=4.0.0->ipywidgets) (2.6.1)\n",
            "Requirement already satisfied: simplegeneric>0.8 in /usr/local/lib/python3.7/dist-packages (from ipython>=4.0.0->ipywidgets) (0.8.1)\n",
            "Requirement already satisfied: decorator in /usr/local/lib/python3.7/dist-packages (from ipython>=4.0.0->ipywidgets) (4.4.2)\n",
            "Requirement already satisfied: jupyter-core in /usr/local/lib/python3.7/dist-packages (from nbformat>=4.2.0->ipywidgets) (4.9.1)\n",
            "Requirement already satisfied: jsonschema!=2.5.0,>=2.4 in /usr/local/lib/python3.7/dist-packages (from nbformat>=4.2.0->ipywidgets) (4.3.3)\n",
            "Requirement already satisfied: attrs>=17.4.0 in /usr/local/lib/python3.7/dist-packages (from jsonschema!=2.5.0,>=2.4->nbformat>=4.2.0->ipywidgets) (21.4.0)\n",
            "Requirement already satisfied: importlib-resources>=1.4.0 in /usr/local/lib/python3.7/dist-packages (from jsonschema!=2.5.0,>=2.4->nbformat>=4.2.0->ipywidgets) (5.4.0)\n",
            "Requirement already satisfied: pyrsistent!=0.17.0,!=0.17.1,!=0.17.2,>=0.14.0 in /usr/local/lib/python3.7/dist-packages (from jsonschema!=2.5.0,>=2.4->nbformat>=4.2.0->ipywidgets) (0.18.0)\n",
            "Requirement already satisfied: typing-extensions in /usr/local/lib/python3.7/dist-packages (from jsonschema!=2.5.0,>=2.4->nbformat>=4.2.0->ipywidgets) (3.10.0.2)\n",
            "Requirement already satisfied: importlib-metadata in /usr/local/lib/python3.7/dist-packages (from jsonschema!=2.5.0,>=2.4->nbformat>=4.2.0->ipywidgets) (4.10.0)\n",
            "Requirement already satisfied: zipp>=3.1.0 in /usr/local/lib/python3.7/dist-packages (from importlib-resources>=1.4.0->jsonschema!=2.5.0,>=2.4->nbformat>=4.2.0->ipywidgets) (3.7.0)\n",
            "Requirement already satisfied: six>=1.9.0 in /usr/local/lib/python3.7/dist-packages (from prompt-toolkit<2.0.0,>=1.0.4->ipython>=4.0.0->ipywidgets) (1.15.0)\n",
            "Requirement already satisfied: wcwidth in /usr/local/lib/python3.7/dist-packages (from prompt-toolkit<2.0.0,>=1.0.4->ipython>=4.0.0->ipywidgets) (0.2.5)\n",
            "Requirement already satisfied: notebook>=4.4.1 in /usr/local/lib/python3.7/dist-packages (from widgetsnbextension~=3.5.0->ipywidgets) (5.3.1)\n",
            "Requirement already satisfied: Send2Trash in /usr/local/lib/python3.7/dist-packages (from notebook>=4.4.1->widgetsnbextension~=3.5.0->ipywidgets) (1.8.0)\n",
            "Requirement already satisfied: terminado>=0.8.1 in /usr/local/lib/python3.7/dist-packages (from notebook>=4.4.1->widgetsnbextension~=3.5.0->ipywidgets) (0.12.1)\n",
            "Requirement already satisfied: nbconvert in /usr/local/lib/python3.7/dist-packages (from notebook>=4.4.1->widgetsnbextension~=3.5.0->ipywidgets) (5.6.1)\n",
            "Requirement already satisfied: jinja2 in /usr/local/lib/python3.7/dist-packages (from notebook>=4.4.1->widgetsnbextension~=3.5.0->ipywidgets) (2.11.3)\n",
            "Requirement already satisfied: pyzmq>=13 in /usr/local/lib/python3.7/dist-packages (from jupyter-client->ipykernel>=4.5.1->ipywidgets) (22.3.0)\n",
            "Requirement already satisfied: python-dateutil>=2.1 in /usr/local/lib/python3.7/dist-packages (from jupyter-client->ipykernel>=4.5.1->ipywidgets) (2.8.2)\n",
            "Requirement already satisfied: ptyprocess in /usr/local/lib/python3.7/dist-packages (from terminado>=0.8.1->notebook>=4.4.1->widgetsnbextension~=3.5.0->ipywidgets) (0.7.0)\n",
            "Requirement already satisfied: MarkupSafe>=0.23 in /usr/local/lib/python3.7/dist-packages (from jinja2->notebook>=4.4.1->widgetsnbextension~=3.5.0->ipywidgets) (2.0.1)\n",
            "Requirement already satisfied: bleach in /usr/local/lib/python3.7/dist-packages (from nbconvert->notebook>=4.4.1->widgetsnbextension~=3.5.0->ipywidgets) (4.1.0)\n",
            "Requirement already satisfied: entrypoints>=0.2.2 in /usr/local/lib/python3.7/dist-packages (from nbconvert->notebook>=4.4.1->widgetsnbextension~=3.5.0->ipywidgets) (0.3)\n",
            "Requirement already satisfied: mistune<2,>=0.8.1 in /usr/local/lib/python3.7/dist-packages (from nbconvert->notebook>=4.4.1->widgetsnbextension~=3.5.0->ipywidgets) (0.8.4)\n",
            "Requirement already satisfied: testpath in /usr/local/lib/python3.7/dist-packages (from nbconvert->notebook>=4.4.1->widgetsnbextension~=3.5.0->ipywidgets) (0.5.0)\n",
            "Requirement already satisfied: pandocfilters>=1.4.1 in /usr/local/lib/python3.7/dist-packages (from nbconvert->notebook>=4.4.1->widgetsnbextension~=3.5.0->ipywidgets) (1.5.0)\n",
            "Requirement already satisfied: defusedxml in /usr/local/lib/python3.7/dist-packages (from nbconvert->notebook>=4.4.1->widgetsnbextension~=3.5.0->ipywidgets) (0.7.1)\n",
            "Requirement already satisfied: packaging in /usr/local/lib/python3.7/dist-packages (from bleach->nbconvert->notebook>=4.4.1->widgetsnbextension~=3.5.0->ipywidgets) (21.3)\n",
            "Requirement already satisfied: webencodings in /usr/local/lib/python3.7/dist-packages (from bleach->nbconvert->notebook>=4.4.1->widgetsnbextension~=3.5.0->ipywidgets) (0.5.1)\n",
            "Requirement already satisfied: pyparsing!=3.0.5,>=2.0.2 in /usr/local/lib/python3.7/dist-packages (from packaging->bleach->nbconvert->notebook>=4.4.1->widgetsnbextension~=3.5.0->ipywidgets) (3.0.6)\n"
          ]
        }
      ]
    },
    {
      "cell_type": "code",
      "source": [
        "from google.colab import output\n",
        "output.enable_custom_widget_manager()"
      ],
      "metadata": {
        "id": "GpM4igtjrpP1"
      },
      "execution_count": 4,
      "outputs": []
    },
    {
      "cell_type": "code",
      "source": [
        "import json\n",
        "import numpy as np\n",
        "from sklearn.preprocessing import normalize\n",
        "import matplotlib.pyplot as plt"
      ],
      "metadata": {
        "id": "pQ7ytVvPse6e"
      },
      "execution_count": 5,
      "outputs": []
    },
    {
      "cell_type": "code",
      "source": [
        "from ipywidgets import interact, interactive, HBox, VBox\n",
        "import ipywidgets as widgets"
      ],
      "metadata": {
        "id": "RGcUl7q0sbQe"
      },
      "execution_count": 6,
      "outputs": []
    },
    {
      "cell_type": "code",
      "execution_count": 7,
      "metadata": {
        "id": "xmh3oKxUrFSO"
      },
      "outputs": [],
      "source": [
        "from ipycanvas import Canvas, hold_canvas\n"
      ]
    },
    {
      "cell_type": "code",
      "source": [
        "from google.colab import drive\n",
        "drive.mount('/content/drive/')"
      ],
      "metadata": {
        "colab": {
          "base_uri": "https://localhost:8080/"
        },
        "id": "Zeh-SHrB5udP",
        "outputId": "8a586f71-95dc-47d8-93d9-66514144bb19"
      },
      "execution_count": 8,
      "outputs": [
        {
          "output_type": "stream",
          "name": "stdout",
          "text": [
            "Mounted at /content/drive/\n"
          ]
        }
      ]
    },
    {
      "cell_type": "code",
      "source": [
        "with open('./drive/MyDrive/data.json', 'r') as oldDataFile:\n",
        "  oldData = json.loads(oldDataFile.read())"
      ],
      "metadata": {
        "id": "CXk0mLiNsspt"
      },
      "execution_count": 9,
      "outputs": []
    },
    {
      "cell_type": "code",
      "source": [
        "canvas = Canvas(width=600, height=300)\n",
        "canvas.layout.width = f'{canvas.width}px'\n",
        "canvas.layout.height = f'{canvas.height}px'"
      ],
      "metadata": {
        "id": "UNLWOQvIrG91"
      },
      "execution_count": 10,
      "outputs": []
    },
    {
      "cell_type": "code",
      "source": [
        "byNickname = {}\n",
        "\n",
        "for signature in oldData['signatures']:\n",
        "  nickname = signature['nickname']\n",
        "\n",
        "  if nickname not in byNickname:\n",
        "    byNickname[nickname] = []\n",
        "\n",
        "  byNickname[nickname].append(signature['data'])"
      ],
      "metadata": {
        "id": "XROSDdNfr4W1"
      },
      "execution_count": 11,
      "outputs": []
    },
    {
      "cell_type": "code",
      "source": [
        "def rotationMatrix(theta = np.pi / 2):\n",
        "  cos, sin = np.cos(theta), np.sin(theta)\n",
        "\n",
        "  return np.array(\n",
        "    (\n",
        "      (cos, -sin),\n",
        "      (sin,  cos)\n",
        "    )\n",
        "  )"
      ],
      "metadata": {
        "id": "kMjD7yQa8o30"
      },
      "execution_count": 12,
      "outputs": []
    },
    {
      "cell_type": "code",
      "source": [
        "def oldDataArray(nickname, index):\n",
        "  basicArray = np.array([\n",
        "          (row['x'], row['y'], row['ti'], row['ty'])\n",
        "          for row in byNickname[nickname][index]\n",
        "  ])\n",
        "\n",
        "  tyCount = 0\n",
        "  tys = basicArray[:, 3]\n",
        "  lastTy = tys[0]\n",
        "\n",
        "  for i in range(1, len(tys)):\n",
        "    ty = tys[i]\n",
        "\n",
        "    if lastTy != ty:\n",
        "      tyCount += 1\n",
        "      tys[i - 1] = tyCount\n",
        "\n",
        "    tys[i] = tyCount\n",
        "    lastTy = ty\n",
        "\n",
        "  basicArray[:, 3] = tys\n",
        "\n",
        "  rotate90 = rotationMatrix()\n",
        "  R = rotate90\n",
        "\n",
        "  basicArray[:, 0:2] = basicArray[:, 0:2] @ R\n",
        "\n",
        "  xCoords = basicArray[:, 0]\n",
        "  yCoords = basicArray[:, 1]\n",
        "\n",
        "  # Calculate the gradient of straightline of best fit & take x-axis gradient.\n",
        "  incline = np.polyfit(xCoords, yCoords, 1)[0]\n",
        "\n",
        "  # Calculate Radians from gradient and take negative for straightening transform.\n",
        "  inclineRadians = np.arctan(incline)*1\n",
        "\n",
        "  straightenR = rotationMatrix(inclineRadians)\n",
        "  basicArray[:, 0:2] = basicArray[:, 0:2] @ straightenR\n",
        "\n",
        "  w, h = basicArray[:, 0:2].max(axis = 0) - basicArray[:, 0:2].min(axis = 0)\n",
        "  ratio = w/h\n",
        "\n",
        "  normalizeTillColumn = 4\n",
        "  basicArray[:, 0:normalizeTillColumn] = basicArray[:, 0:normalizeTillColumn] - basicArray[:, 0:normalizeTillColumn].min(axis = 0)\n",
        "  basicArray[:, 0:normalizeTillColumn] = basicArray[:, 0:normalizeTillColumn] / basicArray[:, 0:normalizeTillColumn].max(axis = 0)\n",
        "\n",
        "  return (basicArray, ratio)"
      ],
      "metadata": {
        "id": "9VgxldVF1rD6"
      },
      "execution_count": 13,
      "outputs": []
    },
    {
      "cell_type": "code",
      "source": [
        "def midTime(data, n):\n",
        "  tis = data[:, 2]\n",
        "  given_ti = n\n",
        "  end_point = np.searchsorted(tis, given_ti)\n",
        "  end_point_vti = data[end_point, 2]\n",
        "  start_point_vti = data[end_point - 1, 2]\n",
        "  start_d_point = data[end_point-1];\n",
        "  end_d_point = data[end_point]\n",
        "  div = (given_ti - start_point_vti) / (end_point_vti - start_point_vti)\n",
        "  new_point_x = div * start_d_point[0] + (1-div) * end_d_point[0]\n",
        "  new_point_y = div * start_d_point[1] + (1-div) * end_d_point[1]\n",
        "  \n",
        "  new_point = [new_point_x, new_point_y, given_ti, start_d_point[3]]\n",
        "  new_point = [round(x, 5) for x in new_point]\n",
        "  return new_point\n",
        "\n",
        "\n",
        "data, ratio = oldDataArray('OMRAN', 0)\n",
        "tmp = midTime(data, 0.1)\n",
        "# p_data\n",
        "# data\n",
        "plt.plot(data[:,0], data[:,1])\n",
        "# plt.plot(p_data[:,0], p_data[:,1], 'bo')\n",
        "# plt.plot(tmp[0], tmp[1], 'ro')\n",
        "t_data = np.array([ midTime(data, 1.0 / x) for x in range(1,100)])\n",
        "plt.plot(t_data[:,0], t_data[:,1], 'bo')\n",
        "print(f'tn={len(t_data)}')\n",
        "print(f'new_data={t_data[:2]}')\n",
        "print(f'old_data={data[:2]}')\n",
        "# t_data, data"
      ],
      "metadata": {
        "colab": {
          "base_uri": "https://localhost:8080/",
          "height": 352
        },
        "id": "eyI2CoZquu_e",
        "outputId": "87b41925-b583-4601-978a-2a62deb0d73a"
      },
      "execution_count": 17,
      "outputs": [
        {
          "output_type": "stream",
          "name": "stdout",
          "text": [
            "tn=99\n",
            "new_data=[[0.99607 0.93453 1.      1.     ]\n",
            " [0.40529 0.73502 0.5     0.     ]]\n",
            "old_data=[[0.12365285 0.93001063 0.         0.        ]\n",
            " [0.09927301 0.87798401 0.02897259 0.        ]]\n"
          ]
        },
        {
          "output_type": "display_data",
          "data": {
            "image/png": "[encoded data removed]",
            "text/plain": [
              "<Figure size 432x288 with 1 Axes>"
            ]
          },
          "metadata": {
            "needs_background": "light"
          }
        }
      ]
    },
    {
      "cell_type": "code",
      "source": [
        "def normalizedByTime(data):\n",
        "  return data;\n",
        "\n",
        "nickname = \"OMRAN\"\n",
        "index = 0\n",
        "data, ratio = oldDataArray(nickname, index)\n",
        "data.size"
      ],
      "metadata": {
        "id": "KXVg1Ubno4Ta"
      },
      "execution_count": null,
      "outputs": []
    },
    {
      "cell_type": "code",
      "source": [
        "def drawExtendedEdge(canvas, data, i):\n",
        "  xi, yi, tii, peni = data[i]\n",
        "  xj, yj, tij, penj = data[i + 1]\n",
        "  magnitude = np.sqrt((xj - xi)**2 + (yj - yi) ** 2)\n",
        "  slope = (yj - yi) / (xj - xi)\n",
        "  c_val = yj - (slope * xj)\n",
        "  direction = np.arctan((yj-yi)/(xj-xi))\n",
        "  unit_vec = [xj - xi, yj - yi] / magnitude\n",
        "  unit_vec = unit_vec * 0.08\n",
        "  xj = xj + unit_vec[0]\n",
        "  yj = slope * xj + c_val\n",
        "  return xj, yj\n",
        "  \n"
      ],
      "metadata": {
        "id": "rPWc1lkQ7kGW"
      },
      "execution_count": null,
      "outputs": []
    },
    {
      "cell_type": "code",
      "source": [
        "def scaleDown(p1, p2):\n",
        "  p1x, p1y = p1\n",
        "  p2x, p2y = p2\n",
        "  p3x = (0.5 * p1x) + (0.5 * p2x)\n",
        "  p3y = (0.5 * p1y) + (0.5 * p2y)\n",
        "  return (p3x, p3y)"
      ],
      "metadata": {
        "id": "d04Sbo_2FNGs"
      },
      "execution_count": null,
      "outputs": []
    },
    {
      "cell_type": "code",
      "source": [
        "nicknameSelector = widgets.Dropdown(\n",
        "    options=tuple(byNickname.keys()),\n",
        "    description='Nicknames: ',\n",
        ")\n",
        "\n",
        "signatureSelector = widgets.Dropdown(\n",
        "    options=tuple(range(0, len(byNickname[nicknameSelector.value]))),\n",
        "    description='Sign: ',\n",
        ")\n",
        "\n",
        "speedSelector = widgets.FloatSlider(\n",
        "    value=1,\n",
        "    min=0.3,\n",
        "    max=10.0,\n",
        "    description='Speed (s): ',\n",
        ")\n",
        "\n",
        "animateButton = widgets.Button(\n",
        "    description='Animate'\n",
        ")\n",
        "\n",
        "def render(animate = False):\n",
        "  canvas.clear()\n",
        "\n",
        "  nickname = nicknameSelector.value\n",
        "  index = int(signatureSelector.value)\n",
        "\n",
        "  data, ratio = oldDataArray(nickname, index)\n",
        "  data = data[7:14]\n",
        "  # calculate gradient\n",
        "\n",
        "  # data = normalizedByTime(data);\n",
        "\n",
        "  if ratio > (canvas.width / canvas.height):\n",
        "    width = canvas.width\n",
        "    height = canvas.width / ratio\n",
        "    yOffset = (canvas.height - height) / 2\n",
        "    xOffset = 0\n",
        "\n",
        "  else:\n",
        "    height = canvas.height\n",
        "    width = height * ratio\n",
        "    yOffset = 0\n",
        "    xOffset = (canvas.width - width) / 2\n",
        "\n",
        "\n",
        "  with hold_canvas(canvas):\n",
        "    for i in range(len(data) - 1):\n",
        "      xi, yi, tii, peni = data[i]\n",
        "      xj, yj, tij, penj = data[i + 1]\n",
        "      magnitude = np.sqrt((xj - xi)**2 + (yj - yi) ** 2)\n",
        "      slope = (yj - yi) / (xj - xi)\n",
        "      c_val = yj - (slope * xj)\n",
        "      direction = np.arctan((yj-yi)/(xj-xi))\n",
        "      unit_vec = [xj - xi, yj - yi] / magnitude\n",
        "      canvas.stroke_style = f'hsl({tii * 27000}, 100%, 50%)';\n",
        "      canvas.font = '15px serif'\n",
        "      # print(f'{i} - ti={tii}, m=({slope}) delT={tij-tii}')\n",
        "      # print(f'{unit_vec}')\n",
        "      # canvas.stroke_text(f'm=({slope}) delT={tij-tii} dir={np.degrees(direction)}', 10, 32 + 32 * i)\n",
        "      canvas.begin_path()\n",
        "      canvas.stroke_style = f'hsl({tii * 5100}, 100%, 50%)';\n",
        "\n",
        "      canvas.move_to(\n",
        "          xOffset + xi * width,\n",
        "          yOffset + yi * height\n",
        "      )\n",
        "\n",
        "      \n",
        "      scaled_down_x, scaled_down_y = scaleDown((xi, yi), (xj, yj));\n",
        "      data[i+1] = scaled_down_x , scaled_down_y, tij, penj\n",
        "      print(f'{scaled_down_x} {scaled_down_y} {xj} {yj}');\n",
        "      canvas.line_to(\n",
        "          xOffset + scaled_down_x * width,\n",
        "          yOffset + scaled_down_y * height\n",
        "      )\n",
        "\n",
        "\n",
        "      # canvas.move_to(\n",
        "      #     xOffset + 10 + xi * width,\n",
        "      #     yOffset + 10 + yi * height\n",
        "      # )\n",
        "\n",
        "      # canvas.line_to(\n",
        "      #     xOffset + 10 + xj * width,\n",
        "      #     yOffset + 10 + yj * height\n",
        "      # )\n",
        "\n",
        "      extended_x, extended_y = drawExtendedEdge(canvas, data, i);\n",
        "      canvas.line_to(\n",
        "          xOffset + extended_x * width,\n",
        "          yOffset + extended_y * height\n",
        "      )\n",
        "      \n",
        "      canvas.stroke()\n",
        "      canvas.close_path()\n",
        "\n",
        "      if animate:\n",
        "        canvas.sleep(\n",
        "            float(speedSelector.value) * 1000 * (tij - tii)\n",
        "        )\n",
        "\n",
        "\n",
        "def chooseNickname(nickname):\n",
        "  signatureSelector.options = tuple(range(0, len(byNickname[nickname])))\n",
        "  signatureSelector.value = 0\n",
        "\n",
        "def chooseSignature(index):\n",
        "  render()\n",
        "\n",
        "def animate(_):\n",
        "  render(True)\n",
        "\n",
        "\n",
        "nicknameSelectorInteractive = interactive(chooseNickname, nickname = nicknameSelector)\n",
        "signatureSelectorInteractive = interactive(chooseSignature, index = signatureSelector)\n",
        "animateButton.on_click(animate)\n",
        "\n",
        "VBox([\n",
        "      HBox([nicknameSelectorInteractive, signatureSelectorInteractive, speedSelector, animateButton]),\n",
        "      canvas\n",
        "])"
      ],
      "metadata": {
        "id": "3nSzCy4bv7FJ"
      },
      "execution_count": null,
      "outputs": []
    }
  ]
}